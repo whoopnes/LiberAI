{
 "cells": [
  {
   "cell_type": "code",
   "execution_count": 37,
   "id": "ed501803",
   "metadata": {},
   "outputs": [],
   "source": [
    "# Import libraries\n",
    "import pandas as pd\n",
    "import numpy as np\n",
    "import ast\n",
    "import pickle\n",
    "import os\n",
    "import matplotlib.pyplot as plt\n",
    "import seaborn as sns\n",
    "from sklearn.feature_extraction.text import TfidfVectorizer\n",
    "from sklearn.decomposition import TruncatedSVD\n",
    "from sklearn.cluster import KMeans\n",
    "from sklearn.metrics.pairwise import cosine_similarity\n",
    "from scipy.sparse import hstack"
   ]
  },
  {
   "cell_type": "code",
   "execution_count": 38,
   "id": "154295c8",
   "metadata": {},
   "outputs": [
    {
     "name": "stdout",
     "output_type": "stream",
     "text": [
      "<class 'pandas.core.frame.DataFrame'>\n",
      "RangeIndex: 52478 entries, 0 to 52477\n",
      "Data columns (total 23 columns):\n",
      " #   Column            Non-Null Count  Dtype  \n",
      "---  ------            --------------  -----  \n",
      " 0   title             52478 non-null  object \n",
      " 1   series            23470 non-null  object \n",
      " 2   author            52478 non-null  object \n",
      " 3   rating            52478 non-null  float64\n",
      " 4   description       51140 non-null  object \n",
      " 5   language          48672 non-null  object \n",
      " 6   isbn              52478 non-null  object \n",
      " 7   genres            52478 non-null  object \n",
      " 8   characters        52478 non-null  object \n",
      " 9   bookFormat        51005 non-null  object \n",
      " 10  edition           4955 non-null   object \n",
      " 11  pages             50131 non-null  object \n",
      " 12  publisher         48782 non-null  object \n",
      " 13  publishDate       51598 non-null  object \n",
      " 14  firstPublishDate  31152 non-null  object \n",
      " 15  awards            52478 non-null  object \n",
      " 16  numRatings        52478 non-null  int64  \n",
      " 17  ratingsByStars    52478 non-null  object \n",
      " 18  likedPercent      51856 non-null  float64\n",
      " 19  setting           52478 non-null  object \n",
      " 20  bbeScore          52478 non-null  int64  \n",
      " 21  bbeVotes          52478 non-null  int64  \n",
      " 22  price             38113 non-null  object \n",
      "dtypes: float64(2), int64(3), object(18)\n",
      "memory usage: 9.2+ MB\n"
     ]
    },
    {
     "data": {
      "text/plain": [
       "(None,\n",
       "                                        title                 series  \\\n",
       " 0                           The Hunger Games    The Hunger Games #1   \n",
       " 1  Harry Potter and the Order of the Phoenix        Harry Potter #5   \n",
       " 2                      To Kill a Mockingbird  To Kill a Mockingbird   \n",
       " 3                        Pride and Prejudice                    NaN   \n",
       " 4                                   Twilight   The Twilight Saga #1   \n",
       " \n",
       "                                       author  rating  \\\n",
       " 0                            Suzanne Collins    4.33   \n",
       " 1  J.K. Rowling, Mary GrandPré (Illustrator)    4.50   \n",
       " 2                                 Harper Lee    4.28   \n",
       " 3  Jane Austen, Anna Quindlen (Introduction)    4.26   \n",
       " 4                            Stephenie Meyer    3.60   \n",
       " \n",
       "                                          description language         isbn  \\\n",
       " 0  WINNING MEANS FAME AND FORTUNE.LOSING MEANS CE...  English  9.78044E+12   \n",
       " 1  There is a door at the end of a silent corrido...  English  9.78044E+12   \n",
       " 2  The unforgettable novel of a childhood in a sl...  English        1E+13   \n",
       " 3  Alternate cover edition of ISBN 9780679783268S...  English        1E+13   \n",
       " 4  About three things I was absolutely positive.\\...  English  9.78032E+12   \n",
       " \n",
       "                                               genres  \\\n",
       " 0  ['Young Adult', 'Fiction', 'Dystopia', 'Fantas...   \n",
       " 1  ['Fantasy', 'Young Adult', 'Fiction', 'Magic',...   \n",
       " 2  ['Classics', 'Fiction', 'Historical Fiction', ...   \n",
       " 3  ['Classics', 'Fiction', 'Romance', 'Historical...   \n",
       " 4  ['Young Adult', 'Fantasy', 'Romance', 'Vampire...   \n",
       " \n",
       "                                           characters bookFormat  ...  \\\n",
       " 0  ['Katniss Everdeen', 'Peeta Mellark', 'Cato (H...  Hardcover  ...   \n",
       " 1  ['Sirius Black', 'Draco Malfoy', 'Ron Weasley'...  Paperback  ...   \n",
       " 2  ['Scout Finch', 'Atticus Finch', 'Jem Finch', ...  Paperback  ...   \n",
       " 3  ['Mr. Bennet', 'Mrs. Bennet', 'Jane Bennet', '...  Paperback  ...   \n",
       " 4  ['Edward Cullen', 'Jacob Black', 'Laurent', 'R...  Paperback  ...   \n",
       " \n",
       "   publishDate firstPublishDate  \\\n",
       " 0    09/14/08              NaN   \n",
       " 1    09/28/04         06/21/03   \n",
       " 2    05/23/06       07-11-1960   \n",
       " 3  10-10-2000         01/28/13   \n",
       " 4  09-06-2006       10-05-2005   \n",
       " \n",
       "                                               awards numRatings  \\\n",
       " 0  ['Locus Award Nominee for Best Young Adult Boo...    6376780   \n",
       " 1  ['Bram Stoker Award for Works for Young Reader...    2507623   \n",
       " 2  ['Pulitzer Prize for Fiction (1961)', 'Audie A...    4501075   \n",
       " 3                                                 []    2998241   \n",
       " 4  ['Georgia Peach Book Award (2007)', 'Buxtehude...    4964519   \n",
       " \n",
       "                                       ratingsByStars likedPercent  \\\n",
       " 0  ['3444695', '1921313', '745221', '171994', '93...         96.0   \n",
       " 1  ['1593642', '637516', '222366', '39573', '14526']         98.0   \n",
       " 2  ['2363896', '1333153', '573280', '149952', '80...         95.0   \n",
       " 3  ['1617567', '816659', '373311', '113934', '767...         94.0   \n",
       " 4  ['1751460', '1113682', '1008686', '542017', '5...         78.0   \n",
       " \n",
       "                                              setting bbeScore  bbeVotes price  \n",
       " 0  ['District 12, Panem', 'Capitol, Panem', 'Pane...  2993816     30516  5.09  \n",
       " 1  ['Hogwarts School of Witchcraft and Wizardry (...  2632233     26923  7.38  \n",
       " 2               ['Maycomb, Alabama (United States)']  2269402     23328   NaN  \n",
       " 3  ['United Kingdom', 'Derbyshire, England (Unite...  1983116     20452   NaN  \n",
       " 4  ['Forks, Washington (United States)', 'Phoenix...  1459448     14874   2.1  \n",
       " \n",
       " [5 rows x 23 columns])"
      ]
     },
     "execution_count": 38,
     "metadata": {},
     "output_type": "execute_result"
    }
   ],
   "source": [
    "# Load dataset\n",
    "df = pd.read_csv('books_1.Best_Books_Ever.csv')\n",
    "df.info(), df.head()"
   ]
  },
  {
   "cell_type": "code",
   "execution_count": 39,
   "id": "ba7815e7",
   "metadata": {},
   "outputs": [
    {
     "data": {
      "text/html": [
       "<div>\n",
       "<style scoped>\n",
       "    .dataframe tbody tr th:only-of-type {\n",
       "        vertical-align: middle;\n",
       "    }\n",
       "\n",
       "    .dataframe tbody tr th {\n",
       "        vertical-align: top;\n",
       "    }\n",
       "\n",
       "    .dataframe thead th {\n",
       "        text-align: right;\n",
       "    }\n",
       "</style>\n",
       "<table border=\"1\" class=\"dataframe\">\n",
       "  <thead>\n",
       "    <tr style=\"text-align: right;\">\n",
       "      <th></th>\n",
       "      <th>rating</th>\n",
       "      <th>numRatings</th>\n",
       "      <th>likedPercent</th>\n",
       "      <th>bbeScore</th>\n",
       "      <th>bbeVotes</th>\n",
       "    </tr>\n",
       "  </thead>\n",
       "  <tbody>\n",
       "    <tr>\n",
       "      <th>count</th>\n",
       "      <td>52478.000000</td>\n",
       "      <td>5.247800e+04</td>\n",
       "      <td>51856.000000</td>\n",
       "      <td>5.247800e+04</td>\n",
       "      <td>52478.000000</td>\n",
       "    </tr>\n",
       "    <tr>\n",
       "      <th>mean</th>\n",
       "      <td>4.021878</td>\n",
       "      <td>1.787865e+04</td>\n",
       "      <td>92.231545</td>\n",
       "      <td>1.984023e+03</td>\n",
       "      <td>22.529003</td>\n",
       "    </tr>\n",
       "    <tr>\n",
       "      <th>std</th>\n",
       "      <td>0.367146</td>\n",
       "      <td>1.039448e+05</td>\n",
       "      <td>5.990689</td>\n",
       "      <td>3.515314e+04</td>\n",
       "      <td>369.158541</td>\n",
       "    </tr>\n",
       "    <tr>\n",
       "      <th>min</th>\n",
       "      <td>0.000000</td>\n",
       "      <td>0.000000e+00</td>\n",
       "      <td>0.000000</td>\n",
       "      <td>0.000000e+00</td>\n",
       "      <td>-4.000000</td>\n",
       "    </tr>\n",
       "    <tr>\n",
       "      <th>25%</th>\n",
       "      <td>3.820000</td>\n",
       "      <td>3.410000e+02</td>\n",
       "      <td>90.000000</td>\n",
       "      <td>8.400000e+01</td>\n",
       "      <td>1.000000</td>\n",
       "    </tr>\n",
       "    <tr>\n",
       "      <th>50%</th>\n",
       "      <td>4.030000</td>\n",
       "      <td>2.307000e+03</td>\n",
       "      <td>94.000000</td>\n",
       "      <td>9.700000e+01</td>\n",
       "      <td>1.000000</td>\n",
       "    </tr>\n",
       "    <tr>\n",
       "      <th>75%</th>\n",
       "      <td>4.230000</td>\n",
       "      <td>9.380500e+03</td>\n",
       "      <td>96.000000</td>\n",
       "      <td>1.870000e+02</td>\n",
       "      <td>2.000000</td>\n",
       "    </tr>\n",
       "    <tr>\n",
       "      <th>max</th>\n",
       "      <td>5.000000</td>\n",
       "      <td>7.048471e+06</td>\n",
       "      <td>100.000000</td>\n",
       "      <td>2.993816e+06</td>\n",
       "      <td>30516.000000</td>\n",
       "    </tr>\n",
       "  </tbody>\n",
       "</table>\n",
       "</div>"
      ],
      "text/plain": [
       "             rating    numRatings  likedPercent      bbeScore      bbeVotes\n",
       "count  52478.000000  5.247800e+04  51856.000000  5.247800e+04  52478.000000\n",
       "mean       4.021878  1.787865e+04     92.231545  1.984023e+03     22.529003\n",
       "std        0.367146  1.039448e+05      5.990689  3.515314e+04    369.158541\n",
       "min        0.000000  0.000000e+00      0.000000  0.000000e+00     -4.000000\n",
       "25%        3.820000  3.410000e+02     90.000000  8.400000e+01      1.000000\n",
       "50%        4.030000  2.307000e+03     94.000000  9.700000e+01      1.000000\n",
       "75%        4.230000  9.380500e+03     96.000000  1.870000e+02      2.000000\n",
       "max        5.000000  7.048471e+06    100.000000  2.993816e+06  30516.000000"
      ]
     },
     "execution_count": 39,
     "metadata": {},
     "output_type": "execute_result"
    }
   ],
   "source": [
    "df.describe()"
   ]
  },
  {
   "cell_type": "code",
   "execution_count": 40,
   "id": "08392291",
   "metadata": {},
   "outputs": [
    {
     "data": {
      "text/plain": [
       "title                   0\n",
       "series              29008\n",
       "author                  0\n",
       "rating                  0\n",
       "description          1338\n",
       "language             3806\n",
       "isbn                    0\n",
       "genres                  0\n",
       "characters              0\n",
       "bookFormat           1473\n",
       "edition             47523\n",
       "pages                2347\n",
       "publisher            3696\n",
       "publishDate           880\n",
       "firstPublishDate    21326\n",
       "awards                  0\n",
       "numRatings              0\n",
       "ratingsByStars          0\n",
       "likedPercent          622\n",
       "setting                 0\n",
       "bbeScore                0\n",
       "bbeVotes                0\n",
       "price               14365\n",
       "dtype: int64"
      ]
     },
     "execution_count": 40,
     "metadata": {},
     "output_type": "execute_result"
    }
   ],
   "source": [
    "# Check missing values\n",
    "missing_values = df.isnull().sum()\n",
    "missing_values"
   ]
  },
  {
   "cell_type": "code",
   "execution_count": 41,
   "id": "375dfc7c",
   "metadata": {},
   "outputs": [],
   "source": [
    "# Drop unnecessary columns\n",
    "df = df.drop(columns=['series','characters','bookFormat','edition','pages','publisher','publishDate','firstPublishDate','likedPercent','ratingsByStars','setting','awards','bbeScore','bbeVotes','price'])"
   ]
  },
  {
   "cell_type": "code",
   "execution_count": 42,
   "id": "81012322",
   "metadata": {},
   "outputs": [],
   "source": [
    "# Drop duplicates and nulls, use first 10000 rows after dropping\n",
    "df = df.drop_duplicates(subset=['title', 'author']).head(10000)\n",
    "df = df.dropna(subset=['title', 'genres', 'author','language','rating', 'numRatings','description'])"
   ]
  },
  {
   "cell_type": "code",
   "execution_count": 43,
   "id": "1c1f4974",
   "metadata": {},
   "outputs": [
    {
     "data": {
      "text/plain": [
       "0        ['Young Adult', 'Fiction', 'Dystopia', 'Fantas...\n",
       "1        ['Fantasy', 'Young Adult', 'Fiction', 'Magic',...\n",
       "2        ['Classics', 'Fiction', 'Historical Fiction', ...\n",
       "3        ['Classics', 'Fiction', 'Romance', 'Historical...\n",
       "4        ['Young Adult', 'Fantasy', 'Romance', 'Vampire...\n",
       "                               ...                        \n",
       "10000    ['Nonfiction', 'Business', 'Entrepreneurship',...\n",
       "10001    ['Fantasy', 'Fiction', 'Epic Fantasy', 'High F...\n",
       "10002    ['Dystopia', 'Young Adult', 'Fantasy', 'Fictio...\n",
       "10003    ['Young Adult', 'Fantasy', 'Paranormal', 'Magi...\n",
       "10005    ['Picture Books', 'Childrens', 'Fiction', 'Cla...\n",
       "Name: genres, Length: 9647, dtype: object"
      ]
     },
     "execution_count": 43,
     "metadata": {},
     "output_type": "execute_result"
    }
   ],
   "source": [
    "df['genres']"
   ]
  },
  {
   "cell_type": "code",
   "execution_count": 44,
   "id": "2b8fc326",
   "metadata": {},
   "outputs": [
    {
     "data": {
      "text/plain": [
       "0                                  Suzanne Collins\n",
       "1        J.K. Rowling, Mary GrandPré (Illustrator)\n",
       "2                                       Harper Lee\n",
       "3        Jane Austen, Anna Quindlen (Introduction)\n",
       "4                                  Stephenie Meyer\n",
       "                           ...                    \n",
       "10000                               Blake Mycoskie\n",
       "10001       Michael J. Sullivan (Goodreads Author)\n",
       "10002             Bella Forrest (Goodreads Author)\n",
       "10003      Laurie Faria Stolarz (Goodreads Author)\n",
       "10005                          Virginia Lee Burton\n",
       "Name: author, Length: 9647, dtype: object"
      ]
     },
     "execution_count": 44,
     "metadata": {},
     "output_type": "execute_result"
    }
   ],
   "source": [
    "df['author']"
   ]
  },
  {
   "cell_type": "code",
   "execution_count": 45,
   "id": "9381d2d5",
   "metadata": {},
   "outputs": [],
   "source": [
    "# Clean 'genres'\n",
    "def clean_genres(genre_str):\n",
    "    try:\n",
    "        genres = ast.literal_eval(genre_str)\n",
    "        return ' '.join(g.strip().replace(' ', '_') for g in genres if isinstance(g, str))\n",
    "    except:\n",
    "        return ''\n",
    "\n",
    "# Clean 'author'\n",
    "def clean_author(author_str):\n",
    "    return author_str.split(',')[0].strip()\n",
    "\n",
    "# Apply cleaning\n",
    "df['clean_genres'] = df['genres'].apply(clean_genres)\n",
    "df['clean_author'] = df['author'].apply(clean_author)\n",
    "df.reset_index(drop=True, inplace=True)"
   ]
  },
  {
   "cell_type": "code",
   "execution_count": 46,
   "id": "89719dc1",
   "metadata": {},
   "outputs": [
    {
     "data": {
      "text/plain": [
       "0       Young_Adult Fiction Dystopia Fantasy Science_F...\n",
       "1       Fantasy Young_Adult Fiction Magic Childrens Ad...\n",
       "2       Classics Fiction Historical_Fiction School Lit...\n",
       "3       Classics Fiction Romance Historical_Fiction Li...\n",
       "4       Young_Adult Fantasy Romance Vampires Fiction P...\n",
       "                              ...                        \n",
       "9642    Nonfiction Business Entrepreneurship Biography...\n",
       "9643    Fantasy Fiction Epic_Fantasy High_Fantasy Audi...\n",
       "9644    Dystopia Young_Adult Fantasy Fiction Science_F...\n",
       "9645    Young_Adult Fantasy Paranormal Magic Witches M...\n",
       "9646    Picture_Books Childrens Fiction Classics Juven...\n",
       "Name: clean_genres, Length: 9647, dtype: object"
      ]
     },
     "execution_count": 46,
     "metadata": {},
     "output_type": "execute_result"
    }
   ],
   "source": [
    "df['clean_genres']"
   ]
  },
  {
   "cell_type": "code",
   "execution_count": 47,
   "id": "3c504649",
   "metadata": {},
   "outputs": [
    {
     "data": {
      "text/plain": [
       "<Axes: ylabel='clean_genres'>"
      ]
     },
     "execution_count": 47,
     "metadata": {},
     "output_type": "execute_result"
    },
    {
     "data": {
      "image/png": "[encoded data removed]",
      "text/plain": [
       "<Figure size 1000x500 with 1 Axes>"
      ]
     },
     "metadata": {},
     "output_type": "display_data"
    }
   ],
   "source": [
    "top_10_genre = df['clean_genres'].value_counts().nlargest(10)\n",
    "plt.figure(figsize=(10, 5))\n",
    "sns.barplot(x=top_10_genre.values, y=top_10_genre.index)"
   ]
  },
  {
   "cell_type": "code",
   "execution_count": 48,
   "id": "90d4d196",
   "metadata": {},
   "outputs": [
    {
     "data": {
      "text/plain": [
       "0                               Suzanne Collins\n",
       "1                                  J.K. Rowling\n",
       "2                                    Harper Lee\n",
       "3                                   Jane Austen\n",
       "4                               Stephenie Meyer\n",
       "                         ...                   \n",
       "9642                             Blake Mycoskie\n",
       "9643     Michael J. Sullivan (Goodreads Author)\n",
       "9644           Bella Forrest (Goodreads Author)\n",
       "9645    Laurie Faria Stolarz (Goodreads Author)\n",
       "9646                        Virginia Lee Burton\n",
       "Name: clean_author, Length: 9647, dtype: object"
      ]
     },
     "execution_count": 48,
     "metadata": {},
     "output_type": "execute_result"
    }
   ],
   "source": [
    "df['clean_author']"
   ]
  },
  {
   "cell_type": "code",
   "execution_count": 49,
   "id": "b1d796f7",
   "metadata": {},
   "outputs": [
    {
     "data": {
      "text/plain": [
       "<Axes: ylabel='clean_author'>"
      ]
     },
     "execution_count": 49,
     "metadata": {},
     "output_type": "execute_result"
    },
    {
     "data": {
      "image/png": "[encoded data removed]",
      "text/plain": [
       "<Figure size 1000x500 with 1 Axes>"
      ]
     },
     "metadata": {},
     "output_type": "display_data"
    }
   ],
   "source": [
    "top_10_author = df['clean_author'].value_counts().nlargest(10)\n",
    "plt.figure(figsize=(10, 5))\n",
    "sns.barplot(x=top_10_author.values, y=top_10_author.index)"
   ]
  },
  {
   "cell_type": "code",
   "execution_count": 50,
   "id": "5cd4b8a8",
   "metadata": {},
   "outputs": [
    {
     "name": "stdout",
     "output_type": "stream",
     "text": [
      "5.0\n"
     ]
    },
    {
     "data": {
      "text/plain": [
       "<Axes: ylabel='rating'>"
      ]
     },
     "execution_count": 50,
     "metadata": {},
     "output_type": "execute_result"
    },
    {
     "data": {
      "image/png": "[encoded data removed]",
      "text/plain": [
       "<Figure size 640x480 with 1 Axes>"
      ]
     },
     "metadata": {},
     "output_type": "display_data"
    }
   ],
   "source": [
    "print(df['rating'].max())\n",
    "sns.boxplot(df['rating'])"
   ]
  },
  {
   "cell_type": "code",
   "execution_count": 51,
   "id": "ba3d694c",
   "metadata": {},
   "outputs": [
    {
     "name": "stdout",
     "output_type": "stream",
     "text": [
      "<class 'pandas.core.frame.DataFrame'>\n",
      "RangeIndex: 9647 entries, 0 to 9646\n",
      "Data columns (total 10 columns):\n",
      " #   Column        Non-Null Count  Dtype  \n",
      "---  ------        --------------  -----  \n",
      " 0   title         9647 non-null   object \n",
      " 1   author        9647 non-null   object \n",
      " 2   rating        9647 non-null   float64\n",
      " 3   description   9647 non-null   object \n",
      " 4   language      9647 non-null   object \n",
      " 5   isbn          9647 non-null   object \n",
      " 6   genres        9647 non-null   object \n",
      " 7   numRatings    9647 non-null   int64  \n",
      " 8   clean_genres  9647 non-null   object \n",
      " 9   clean_author  9647 non-null   object \n",
      "dtypes: float64(1), int64(1), object(8)\n",
      "memory usage: 753.8+ KB\n"
     ]
    }
   ],
   "source": [
    "df.info()"
   ]
  },
  {
   "cell_type": "code",
   "execution_count": 52,
   "id": "2b1ac15e",
   "metadata": {},
   "outputs": [],
   "source": [
    "# Define vectorizers for different features\n",
    "tfidf_genres = TfidfVectorizer(stop_words='english', max_features=200)\n",
    "tfidf_author = TfidfVectorizer(max_features=100)\n",
    "tfidf_title = TfidfVectorizer(stop_words='english', ngram_range=(1, 2), max_features=1000)\n",
    "\n",
    "# Create TF-IDF matrices for each feature\n",
    "genres_vec = tfidf_genres.fit_transform(df['clean_genres'])\n",
    "author_vec = tfidf_author.fit_transform(df['clean_author'])\n",
    "title_vec = tfidf_title.fit_transform(df['title'])\n",
    "\n",
    "# Combine the matrices with weights\n",
    "weighted_features = hstack([genres_vec * 3, title_vec * 2, author_vec])"
   ]
  },
  {
   "cell_type": "code",
   "execution_count": 53,
   "id": "864cdb42",
   "metadata": {},
   "outputs": [
    {
     "name": "stdout",
     "output_type": "stream",
     "text": [
      "<Compressed Sparse Row sparse matrix of dtype 'float64'\n",
      "\twith 113792 stored elements and shape (9647, 1300)>\n",
      "  Coords\tValues\n",
      "  (0, 195)\t0.6282790656565915\n",
      "  (0, 72)\t0.3671170761806378\n",
      "  (0, 56)\t1.1675645875012695\n",
      "  (0, 70)\t0.5632017709678709\n",
      "  (0, 158)\t0.898802981951008\n",
      "  (0, 151)\t0.6050268969272496\n",
      "  (0, 6)\t0.7965417562623942\n",
      "  (0, 177)\t1.030874711601888\n",
      "  (0, 141)\t1.4259090675888264\n",
      "  (0, 3)\t1.3732387670520276\n",
      "  (0, 642)\t1.4142135623730951\n",
      "  (0, 550)\t1.4142135623730951\n",
      "  (1, 195)\t0.7415727089092171\n",
      "  (1, 72)\t0.4333170076032928\n",
      "  (1, 70)\t0.6647604317718853\n",
      "  (1, 6)\t0.9401771605003209\n",
      "  (1, 112)\t1.0691858659969184\n",
      "  (1, 33)\t1.1621683742697624\n",
      "  (1, 21)\t0.8875453366858923\n",
      "  (1, 119)\t1.2475463663052375\n",
      "  (1, 39)\t0.8777297728563123\n",
      "  (1, 159)\t1.152455987200254\n",
      "  (1, 603)\t0.9635077287637629\n",
      "  (1, 886)\t0.9635077287637629\n",
      "  (1, 840)\t1.088436243192037\n",
      "  :\t:\n",
      "  (9645, 72)\t0.3945463464142971\n",
      "  (9645, 70)\t0.6052815721383075\n",
      "  (9645, 151)\t0.6502316758144191\n",
      "  (9645, 177)\t1.1078968467086205\n",
      "  (9645, 112)\t0.9735213934946522\n",
      "  (9645, 133)\t0.9216055912540222\n",
      "  (9645, 174)\t1.0585046935620963\n",
      "  (9645, 123)\t0.8838867847669917\n",
      "  (9645, 192)\t1.6349368045439996\n",
      "  (9645, 920)\t2.0\n",
      "  (9645, 1229)\t0.7072387047614715\n",
      "  (9645, 1207)\t0.7069748329942985\n",
      "  (9646, 72)\t0.2946124808141042\n",
      "  (9646, 70)\t0.4519709970181238\n",
      "  (9646, 33)\t0.790158941051238\n",
      "  (9646, 39)\t0.5967689735879023\n",
      "  (9646, 86)\t0.6380731740940703\n",
      "  (9646, 146)\t0.9241968038510497\n",
      "  (9646, 137)\t1.3743666115377453\n",
      "  (9646, 103)\t1.0712924557122088\n",
      "  (9646, 104)\t1.458831609250546\n",
      "  (9646, 69)\t1.1412376893406004\n",
      "  (9646, 725)\t1.418196238879345\n",
      "  (9646, 640)\t1.4102196382225287\n",
      "  (9646, 1253)\t1.0\n"
     ]
    }
   ],
   "source": [
    "print(weighted_features)"
   ]
  },
  {
   "cell_type": "code",
   "execution_count": 54,
   "id": "c2a5d30c",
   "metadata": {},
   "outputs": [],
   "source": [
    "# SVD tuning\n",
    "svd_test = TruncatedSVD(n_components=300, random_state=42)\n",
    "svd_test.fit(weighted_features)\n",
    "\n",
    "# Find SVD optimal n_components\n",
    "cumulative_variance = np.cumsum(svd_test.explained_variance_ratio_)"
   ]
  },
  {
   "cell_type": "code",
   "execution_count": 55,
   "id": "713133b2",
   "metadata": {},
   "outputs": [
    {
     "data": {
      "text/plain": [
       "array([0.01706835, 0.05812071, 0.09240843, 0.12164327, 0.14918237,\n",
       "       0.16997172, 0.19039676, 0.20791818, 0.22386014, 0.23701577,\n",
       "       0.24921933, 0.26062238, 0.27098826, 0.28081293, 0.29024859,\n",
       "       0.2992749 , 0.30761747, 0.31570861, 0.32343555, 0.33075693,\n",
       "       0.33799007, 0.34477729, 0.35121654, 0.35758653, 0.36386679,\n",
       "       0.36997656, 0.37580896, 0.38155532, 0.3871491 , 0.39263281,\n",
       "       0.39798451, 0.40317619, 0.4082147 , 0.41313821, 0.41804238,\n",
       "       0.42284969, 0.42759605, 0.43221272, 0.43677809, 0.44110154,\n",
       "       0.44538176, 0.44955468, 0.45365523, 0.45768466, 0.46168962,\n",
       "       0.46565733, 0.46954975, 0.47339813, 0.47720619, 0.48093521,\n",
       "       0.48459438, 0.48818893, 0.49170741, 0.49521696, 0.4987091 ,\n",
       "       0.50208461, 0.50541467, 0.50873019, 0.51201804, 0.51526118,\n",
       "       0.51843338, 0.52160211, 0.52470903, 0.52777272, 0.53079247,\n",
       "       0.53379022, 0.53675087, 0.53968366, 0.54254991, 0.54540316,\n",
       "       0.54821601, 0.55100157, 0.5537419 , 0.55643786, 0.55911575,\n",
       "       0.56177887, 0.56441101, 0.56702561, 0.56961787, 0.57218003,\n",
       "       0.5747126 , 0.57721908, 0.579701  , 0.5821468 , 0.58457083,\n",
       "       0.58699227, 0.58937667, 0.5917412 , 0.59409099, 0.59641251,\n",
       "       0.59871236, 0.60098175, 0.60323975, 0.6054756 , 0.60768297,\n",
       "       0.60987026, 0.61201438, 0.61414871, 0.61626658, 0.61836852,\n",
       "       0.62044321, 0.62249818, 0.62455212, 0.62659742, 0.6286135 ,\n",
       "       0.63061256, 0.63260129, 0.63455904, 0.63649719, 0.63840569,\n",
       "       0.64028914, 0.64216721, 0.64403316, 0.64588322, 0.64772717,\n",
       "       0.64955737, 0.65137103, 0.65316275, 0.65492799, 0.65668705,\n",
       "       0.65843815, 0.66017322, 0.66189926, 0.663619  , 0.66532383,\n",
       "       0.66701627, 0.66870306, 0.67036342, 0.67201609, 0.67364415,\n",
       "       0.67525501, 0.67685499, 0.67844874, 0.68002995, 0.68159727,\n",
       "       0.68316107, 0.68468579, 0.68618336, 0.68767338, 0.68916136,\n",
       "       0.69064157, 0.69209635, 0.69354576, 0.69498458, 0.69640311,\n",
       "       0.6978082 , 0.69920087, 0.70058199, 0.70194563, 0.70330198,\n",
       "       0.70463764, 0.70596506, 0.70728782, 0.70859771, 0.709885  ,\n",
       "       0.71116425, 0.71243371, 0.7136897 , 0.71493357, 0.71616494,\n",
       "       0.71739022, 0.71859507, 0.71979321, 0.72098413, 0.72217021,\n",
       "       0.72334707, 0.72451709, 0.72567045, 0.7268224 , 0.7279574 ,\n",
       "       0.72908595, 0.73021295, 0.73132666, 0.73243514, 0.73352795,\n",
       "       0.73461414, 0.73568757, 0.73675865, 0.73782912, 0.73888332,\n",
       "       0.73993229, 0.74097398, 0.74199725, 0.74300664, 0.74400529,\n",
       "       0.74499001, 0.74596556, 0.74693274, 0.74789003, 0.74884065,\n",
       "       0.7497788 , 0.75071498, 0.75164651, 0.75257534, 0.75349627,\n",
       "       0.75440965, 0.75531489, 0.75621516, 0.75710526, 0.7579903 ,\n",
       "       0.75887218, 0.75974234, 0.76060761, 0.76146539, 0.76231662,\n",
       "       0.76316114, 0.76399791, 0.7648303 , 0.76566044, 0.76648435,\n",
       "       0.76730081, 0.76810893, 0.76891001, 0.76970872, 0.77049835,\n",
       "       0.77128106, 0.7720554 , 0.77282014, 0.77357767, 0.774326  ,\n",
       "       0.77507037, 0.77581083, 0.77654688, 0.77727832, 0.7780066 ,\n",
       "       0.77872953, 0.77944848, 0.78016344, 0.78087705, 0.78158595,\n",
       "       0.78229041, 0.78299375, 0.7836936 , 0.78438788, 0.78507729,\n",
       "       0.78576248, 0.78644543, 0.78712264, 0.78779732, 0.78846907,\n",
       "       0.78913653, 0.78979936, 0.79046179, 0.79111395, 0.7917622 ,\n",
       "       0.79240867, 0.7930525 , 0.79369228, 0.79432601, 0.79495687,\n",
       "       0.7955818 , 0.79620076, 0.79681431, 0.79742493, 0.79803157,\n",
       "       0.79863267, 0.7992306 , 0.79982461, 0.80041595, 0.80100508,\n",
       "       0.80158839, 0.80216491, 0.80273721, 0.80330649, 0.80387293,\n",
       "       0.80443239, 0.80499091, 0.80554842, 0.80610383, 0.80665667,\n",
       "       0.8072022 , 0.80774691, 0.80828767, 0.80882893, 0.80936343,\n",
       "       0.80989323, 0.81042068, 0.81094352, 0.81146312, 0.81197947,\n",
       "       0.81249491, 0.81300774, 0.81351793, 0.81402535, 0.81453119,\n",
       "       0.81503416, 0.81553613, 0.81603219, 0.81652325, 0.8170128 ,\n",
       "       0.81750069, 0.81798725, 0.81846923, 0.81894835, 0.81942332,\n",
       "       0.81989765, 0.82037036, 0.82083926, 0.82130502, 0.82176481])"
      ]
     },
     "execution_count": 55,
     "metadata": {},
     "output_type": "execute_result"
    }
   ],
   "source": [
    "cumulative_variance"
   ]
  },
  {
   "cell_type": "code",
   "execution_count": 56,
   "id": "d36fe887",
   "metadata": {},
   "outputs": [
    {
     "data": {
      "image/png": "[encoded data removed]",
      "text/plain": [
       "<Figure size 1000x600 with 1 Axes>"
      ]
     },
     "metadata": {},
     "output_type": "display_data"
    }
   ],
   "source": [
    "# Plot variance to find elbow\n",
    "plt.figure(figsize=(10, 6))\n",
    "plt.plot(range(1, 301), cumulative_variance)\n",
    "plt.axhline(y=0.9, color='r', linestyle='--', label='90% Explained Variance')\n",
    "plt.title('SVD - Cumulative Explained Variance')\n",
    "plt.xlabel('Number of Components')\n",
    "plt.ylabel('Cumulative Variance Ratio')\n",
    "plt.legend()\n",
    "plt.grid(True)\n",
    "plt.show()"
   ]
  },
  {
   "cell_type": "code",
   "execution_count": 57,
   "id": "8056e67a",
   "metadata": {},
   "outputs": [],
   "source": [
    "svd = TruncatedSVD(n_components=300, random_state=42)\n",
    "reduced = svd.fit_transform(weighted_features)"
   ]
  },
  {
   "cell_type": "code",
   "execution_count": 58,
   "id": "9e5c81b3",
   "metadata": {},
   "outputs": [
    {
     "name": "stdout",
     "output_type": "stream",
     "text": [
      "(9647, 300)\n"
     ]
    },
    {
     "data": {
      "text/plain": [
       "array([[ 1.13392272, -0.33901171,  0.62091332, ..., -0.06760225,\n",
       "        -0.00366997,  0.06213056],\n",
       "       [ 1.42840694, -0.18370467,  1.6511409 , ...,  0.1069725 ,\n",
       "        -0.08867267,  0.09497426],\n",
       "       [ 0.76549651,  0.94161852,  0.70981455, ...,  0.14921534,\n",
       "         0.01211711,  0.11421349],\n",
       "       ...,\n",
       "       [ 1.54673833, -0.36956528,  0.10309822, ...,  0.00970058,\n",
       "        -0.01728278,  0.04516317],\n",
       "       [ 1.83698808, -1.02355016, -0.21613093, ...,  0.03981299,\n",
       "         0.02668558,  0.01221594],\n",
       "       [ 0.6060475 ,  0.30157686,  0.63806459, ...,  0.02818424,\n",
       "         0.02198901,  0.07311788]])"
      ]
     },
     "execution_count": 58,
     "metadata": {},
     "output_type": "execute_result"
    }
   ],
   "source": [
    "print(reduced.shape)\n",
    "reduced"
   ]
  },
  {
   "cell_type": "code",
   "execution_count": 59,
   "id": "92065c55",
   "metadata": {},
   "outputs": [
    {
     "name": "stdout",
     "output_type": "stream",
     "text": [
      "Completed k=10\n",
      "Completed k=20\n",
      "Completed k=30\n",
      "Completed k=40\n",
      "Completed k=50\n",
      "Completed k=60\n",
      "Completed k=70\n",
      "Completed k=80\n",
      "Completed k=90\n",
      "Completed k=100\n",
      "Completed k=110\n",
      "Completed k=120\n",
      "Completed k=130\n",
      "Completed k=140\n",
      "Completed k=150\n",
      "Completed k=160\n",
      "Completed k=170\n",
      "Completed k=180\n",
      "Completed k=190\n",
      "Completed k=200\n"
     ]
    }
   ],
   "source": [
    "# Find KMeans optimal n_clusters\n",
    "inertia = []\n",
    "k_range = range(10, 201, 10)\n",
    "for k in k_range:\n",
    "    kmeans_test = KMeans(n_clusters=k, random_state=42, n_init=10)\n",
    "    kmeans_test.fit(reduced)\n",
    "    inertia.append(kmeans_test.inertia_)\n",
    "    print(f\"Completed k={k}\")"
   ]
  },
  {
   "cell_type": "code",
   "execution_count": 60,
   "id": "ecb7bf04",
   "metadata": {},
   "outputs": [
    {
     "data": {
      "text/plain": [
       "[70920.5397922654,\n",
       " 64963.35515913919,\n",
       " 60956.14686176173,\n",
       " 58140.372797401855,\n",
       " 55630.42865593026,\n",
       " 53595.581245157126,\n",
       " 52071.975401703996,\n",
       " 50734.415578156026,\n",
       " 49352.985828655896,\n",
       " 48466.505096779074,\n",
       " 47678.786079066595,\n",
       " 46627.417246864934,\n",
       " 45906.91592254631,\n",
       " 45510.00783871708,\n",
       " 44584.10192843492,\n",
       " 44137.87785811873,\n",
       " 43574.56585572712,\n",
       " 43169.546535755,\n",
       " 42513.82827085707,\n",
       " 41811.45028922534]"
      ]
     },
     "execution_count": 60,
     "metadata": {},
     "output_type": "execute_result"
    }
   ],
   "source": [
    "inertia"
   ]
  },
  {
   "cell_type": "code",
   "execution_count": 61,
   "id": "98e8fadb",
   "metadata": {},
   "outputs": [
    {
     "data": {
      "image/png": "[encoded data removed]",
      "text/plain": [
       "<Figure size 1000x600 with 1 Axes>"
      ]
     },
     "metadata": {},
     "output_type": "display_data"
    }
   ],
   "source": [
    "# Plot elbow curve\n",
    "plt.figure(figsize=(10, 6))\n",
    "plt.plot(k_range, inertia, marker='o')\n",
    "plt.title('KMeans - Elbow Method')\n",
    "plt.xlabel('Number of Clusters (k)')\n",
    "plt.ylabel('Inertia')\n",
    "plt.xticks(k_range)\n",
    "plt.grid(True)\n",
    "plt.show()"
   ]
  },
  {
   "cell_type": "code",
   "execution_count": 62,
   "id": "2f336b21",
   "metadata": {},
   "outputs": [],
   "source": [
    "# Apply KMeans\n",
    "kmeans = KMeans(n_clusters=150, random_state=42, n_init=10)\n",
    "df['cluster'] = kmeans.fit_predict(reduced)"
   ]
  },
  {
   "cell_type": "code",
   "execution_count": 63,
   "id": "425d9aa0",
   "metadata": {},
   "outputs": [],
   "source": [
    "# Compute the final cosine similarity\n",
    "cosine_sim = cosine_similarity(reduced)"
   ]
  },
  {
   "cell_type": "code",
   "execution_count": 64,
   "id": "913b6dfc",
   "metadata": {},
   "outputs": [],
   "source": [
    "# Map title to index for quick lookup\n",
    "title_to_index = pd.Series(df.index, index=df['title'].str.lower()).to_dict()"
   ]
  },
  {
   "cell_type": "code",
   "execution_count": 65,
   "id": "3921d4ab",
   "metadata": {},
   "outputs": [],
   "source": [
    "# Get books recommendation\n",
    "def recommend_books_hybrid(selected_titles, top_n=10):\n",
    "    indices = [title_to_index.get(title.lower()) for title in selected_titles if title.lower() in title_to_index]\n",
    "\n",
    "    if not indices:\n",
    "        print(\"None of the selected books were found in the dataset.\")\n",
    "        return pd.DataFrame()\n",
    "\n",
    "    # Calculate the average similarity score for the input books\n",
    "    sim_scores = np.mean(cosine_sim[indices], axis=0)\n",
    "\n",
    "    # Get books from the clusters\n",
    "    selected_clusters = df.iloc[indices]['cluster'].unique()\n",
    "    candidate_mask = df['cluster'].isin(selected_clusters)\n",
    "    candidate_indices = np.where(candidate_mask)[0]\n",
    "    candidate_indices = [i for i in candidate_indices if i not in indices]\n",
    "    \n",
    "    # Create a dataframe of candidate books with their similarity scores\n",
    "    recommendations = pd.DataFrame({\n",
    "        'index': candidate_indices,\n",
    "        'similarity_score': sim_scores[candidate_indices]\n",
    "    })\n",
    "    \n",
    "    # Merge with original dataframe to get rating and numRatings\n",
    "    recommendations = recommendations.merge(df[['rating', 'numRatings']], left_on='index', right_index=True)\n",
    "    \n",
    "    # Normalize popularity (numRatings) using a log transform to handle skew, then scale to 0-1\n",
    "    recommendations['popularity_score'] = np.log1p(recommendations['numRatings'])\n",
    "    recommendations['popularity_score'] = recommendations['popularity_score'] / recommendations['popularity_score'].max()\n",
    "    recommendations['rating_score'] = recommendations['rating'] / 5.0\n",
    "    \n",
    "    # Calculate the hybrid score with weights\n",
    "    # 50% content similarity, 30% rating, 20% popularity\n",
    "    recommendations['hybrid_score'] = (\n",
    "        (0.5 * recommendations['similarity_score']) +\n",
    "        (0.3 * recommendations['rating_score']) +\n",
    "        (0.2 * recommendations['popularity_score'])\n",
    "    )\n",
    "    \n",
    "    # Sort by the hybrid score\n",
    "    top_recommendations = recommendations.sort_values(by='hybrid_score', ascending=False).head(top_n)\n",
    "    \n",
    "    # Get the final book details\n",
    "    final_indices = top_recommendations['index']\n",
    "    final_recs = df.iloc[final_indices][['title', 'author', 'genres', 'rating', 'numRatings','description']].copy()\n",
    "    final_recs['hybrid_score'] = top_recommendations['hybrid_score'].values\n",
    "    final_recs['similarity_score'] = top_recommendations['similarity_score'].values\n",
    "    \n",
    "    return final_recs"
   ]
  },
  {
   "cell_type": "code",
   "execution_count": 66,
   "id": "c369dded",
   "metadata": {},
   "outputs": [
    {
     "name": "stdout",
     "output_type": "stream",
     "text": [
      "\n",
      "Recommendations for: The Hobbit, Harry Potter and the Philosopher's Stone, Eragon\n",
      "                            title                                  author  \\\n",
      "376                      Brisingr  Christopher Paolini (Goodreads Author)   \n",
      "365                        Eldest  Christopher Paolini (Goodreads Author)   \n",
      "2436                 Emperor Mage        Tamora Pierce (Goodreads Author)   \n",
      "611                   Inheritance  Christopher Paolini (Goodreads Author)   \n",
      "2937                 Wolf-Speaker        Tamora Pierce (Goodreads Author)   \n",
      "2031       The Hero and the Crown                          Robin McKinley   \n",
      "1267    Eragon, Eldest & Brisingr  Christopher Paolini (Goodreads Author)   \n",
      "1654                   Wild Magic        Tamora Pierce (Goodreads Author)   \n",
      "645          A Wizard of Earthsea                       Ursula K. Le Guin   \n",
      "7998  The Forgotten Beasts of Eld                    Patricia A. McKillip   \n",
      "\n",
      "                                                 genres  rating  numRatings  \\\n",
      "376   ['Fantasy', 'Young Adult', 'Fiction', 'Dragons...    4.05      299095   \n",
      "365   ['Fantasy', 'Young Adult', 'Fiction', 'Dragons...    3.99      355083   \n",
      "2436  ['Fantasy', 'Young Adult', 'Fiction', 'Magic',...    4.25       58889   \n",
      "611   ['Fantasy', 'Young Adult', 'Dragons', 'Fiction...    4.10      213855   \n",
      "2937  ['Fantasy', 'Young Adult', 'Fiction', 'Magic',...    4.17       53345   \n",
      "2031  ['Fantasy', 'Young Adult', 'Fiction', 'Dragons...    4.21       49921   \n",
      "1267  ['Fantasy', 'Young Adult', 'Fiction', 'Dragons...    4.23       32147   \n",
      "1654  ['Fantasy', 'Young Adult', 'Fiction', 'Magic',...    4.29       72556   \n",
      "645   ['Fantasy', 'Fiction', 'Young Adult', 'Classic...    3.99      240994   \n",
      "7998  ['Fantasy', 'Young Adult', 'Fiction', 'Dragons...    4.08       13490   \n",
      "\n",
      "                                            description  hybrid_score  \\\n",
      "376   Oaths sworn... loyalties tested... forces coll...      0.874512   \n",
      "365   Darkness falls…despair abounds…evil reigns…Era...      0.873597   \n",
      "2436  Sent to Carthak as part of the Tortallan peace...      0.872985   \n",
      "611   It began with Eragon... It ends with Inheritan...      0.872708   \n",
      "2937  When humans start cutting down trees and diggi...      0.864668   \n",
      "2031  Aerin could not remember a time when she had n...      0.861736   \n",
      "1267  WITH THE HIGHLY anticipated publication of Boo...      0.834340   \n",
      "1654  Young Daine's knack with horses gets her a job...      0.824176   \n",
      "645   Ged, the greatest sorcerer in all Earthsea, wa...      0.820537   \n",
      "7998  Sixteen when a baby is brought to her to raise...      0.818276   \n",
      "\n",
      "      similarity_score  \n",
      "376           0.868395  \n",
      "365           0.868395  \n",
      "2436          0.892205  \n",
      "611           0.869286  \n",
      "2937          0.888265  \n",
      "2031          0.879676  \n",
      "1267          0.836259  \n",
      "1654          0.783254  \n",
      "645           0.774404  \n",
      "7998          0.849309  \n"
     ]
    }
   ],
   "source": [
    "# Trial\n",
    "test_titles = [\"The Hobbit\", \"Harry Potter and the Philosopher's Stone\", \"Eragon\"]\n",
    "recommendations = recommend_books_hybrid(test_titles, top_n=10)\n",
    "\n",
    "print(f\"\\nRecommendations for: {', '.join(test_titles)}\")\n",
    "print(recommendations)"
   ]
  },
  {
   "cell_type": "code",
   "execution_count": 67,
   "id": "be67c0d6",
   "metadata": {},
   "outputs": [],
   "source": [
    "# Display cluster of genre\n",
    "cluster_to_genre = {}\n",
    "\n",
    "for cluster_id in sorted(df['cluster'].unique()):\n",
    "    cluster_genres = df[df['cluster'] == cluster_id]['genres']\n",
    "    \n",
    "    # Combine all genres in the cluster into a single string\n",
    "    all_genres = \", \".join(cluster_genres).lower().split(\",\")\n",
    "    all_genres = [g.strip() for g in all_genres if g.strip()]\n",
    "    \n",
    "    # Count the frequency of each genre in the cluster and make it the new name of the cluster\n",
    "    if all_genres:\n",
    "        top_genre = pd.Series(all_genres).value_counts().idxmax()\n",
    "        cluster_to_genre[cluster_id] = top_genre\n",
    "    else:\n",
    "        cluster_to_genre[cluster_id] = \"unknown\"\n",
    "\n",
    "df['cluster_name'] = df['cluster'].map(cluster_to_genre)"
   ]
  },
  {
   "cell_type": "code",
   "execution_count": 68,
   "id": "b80d0580",
   "metadata": {},
   "outputs": [
    {
     "data": {
      "text/plain": [
       "{np.int32(0): \"'fiction'\",\n",
       " np.int32(1): \"'coming of age'\",\n",
       " np.int32(2): \"['fantasy'\",\n",
       " np.int32(3): \"'contemporary'\",\n",
       " np.int32(4): \"'roman'\",\n",
       " np.int32(5): \"'fiction'\",\n",
       " np.int32(6): \"'fiction'\",\n",
       " np.int32(7): \"'inspirational'\",\n",
       " np.int32(8): \"'historical'\",\n",
       " np.int32(9): \"'biography'\",\n",
       " np.int32(10): \"'dark'\",\n",
       " np.int32(11): \"['young adult'\",\n",
       " np.int32(12): \"'fiction'\",\n",
       " np.int32(13): \"'spirituality'\",\n",
       " np.int32(14): \"'fiction'\",\n",
       " np.int32(15): \"['romance'\",\n",
       " np.int32(16): \"'paranormal'\",\n",
       " np.int32(17): \"['fantasy'\",\n",
       " np.int32(18): \"'war'\",\n",
       " np.int32(19): \"'fiction'\",\n",
       " np.int32(20): \"'crime'\",\n",
       " np.int32(21): \"'post apocalyptic'\",\n",
       " np.int32(22): \"'school'\",\n",
       " np.int32(23): \"'war'\",\n",
       " np.int32(24): \"'christian'\",\n",
       " np.int32(25): \"'magical realism'\",\n",
       " np.int32(26): \"'literature'\",\n",
       " np.int32(27): \"'romance'\",\n",
       " np.int32(28): \"'fiction'\",\n",
       " np.int32(29): \"'animals'\",\n",
       " np.int32(30): \"'fiction'\",\n",
       " np.int32(31): \"'literature'\",\n",
       " np.int32(32): \"'inspirational'\",\n",
       " np.int32(33): \"'literature'\",\n",
       " np.int32(34): \"'childrens'\",\n",
       " np.int32(35): \"'novels'\",\n",
       " np.int32(36): \"'india'\",\n",
       " np.int32(37): \"'school'\",\n",
       " np.int32(38): \"'self help'\",\n",
       " np.int32(39): \"'literature'\",\n",
       " np.int32(40): \"'drama'\",\n",
       " np.int32(41): \"'fiction'\",\n",
       " np.int32(42): \"'suspense'\",\n",
       " np.int32(43): \"'africa'\",\n",
       " np.int32(44): '[]',\n",
       " np.int32(45): \"'nonfiction'\",\n",
       " np.int32(46): \"'humor'\",\n",
       " np.int32(47): \"'fiction'\",\n",
       " np.int32(48): \"'vampires'\",\n",
       " np.int32(49): \"'fiction'\",\n",
       " np.int32(50): \"'spanish literature'\",\n",
       " np.int32(51): \"'personal development'\",\n",
       " np.int32(52): \"'romance'\",\n",
       " np.int32(53): \"'aliens'\",\n",
       " np.int32(54): \"'paranormal'\",\n",
       " np.int32(55): \"'mystery'\",\n",
       " np.int32(56): \"'fiction'\",\n",
       " np.int32(57): \"'fiction'\",\n",
       " np.int32(58): \"'contemporary'\",\n",
       " np.int32(59): \"'contemporary'\",\n",
       " np.int32(60): \"'gothic'\",\n",
       " np.int32(61): \"'christianity'\",\n",
       " np.int32(62): \"'mystery'\",\n",
       " np.int32(63): \"'fiction'\",\n",
       " np.int32(64): \"'contemporary'\",\n",
       " np.int32(65): \"'humor'\",\n",
       " np.int32(66): \"'japan'\",\n",
       " np.int32(67): \"'biography'\",\n",
       " np.int32(68): \"'fae'\",\n",
       " np.int32(69): \"'young adult'\",\n",
       " np.int32(70): \"'italy'\",\n",
       " np.int32(71): \"'holocaust'\",\n",
       " np.int32(72): \"'fiction'\",\n",
       " np.int32(73): \"'fiction'\",\n",
       " np.int32(74): \"'novels'\",\n",
       " np.int32(75): \"'novels'\",\n",
       " np.int32(76): \"'fiction'\",\n",
       " np.int32(77): \"'paranormal'\",\n",
       " np.int32(78): \"'canada'\",\n",
       " np.int32(79): \"'paranormal'\",\n",
       " np.int32(80): \"'literature'\",\n",
       " np.int32(81): \"'history'\",\n",
       " np.int32(82): \"['fantasy'\",\n",
       " np.int32(83): \"'literature'\",\n",
       " np.int32(84): \"'asia'\",\n",
       " np.int32(85): \"'fiction'\",\n",
       " np.int32(86): \"'fantasy'\",\n",
       " np.int32(87): \"['fantasy'\",\n",
       " np.int32(88): \"'german literature'\",\n",
       " np.int32(89): \"'contemporary'\",\n",
       " np.int32(90): \"'science fiction'\",\n",
       " np.int32(91): \"'young adult'\",\n",
       " np.int32(92): \"'erotica'\",\n",
       " np.int32(93): \"'dystopia'\",\n",
       " np.int32(94): \"'comics'\",\n",
       " np.int32(95): \"'lgbt'\",\n",
       " np.int32(96): \"'fiction'\",\n",
       " np.int32(97): \"'fiction'\",\n",
       " np.int32(98): \"'fiction'\",\n",
       " np.int32(99): \"['mystery'\",\n",
       " np.int32(100): \"'russia'\",\n",
       " np.int32(101): \"['fantasy'\",\n",
       " np.int32(102): \"'fiction'\",\n",
       " np.int32(103): \"['fiction'\",\n",
       " np.int32(104): \"'romance'\",\n",
       " np.int32(105): \"'contemporary'\",\n",
       " np.int32(106): \"'alternate history'\",\n",
       " np.int32(107): \"'lgbt'\",\n",
       " np.int32(108): \"['fantasy'\",\n",
       " np.int32(109): \"'mythology'\",\n",
       " np.int32(110): \"'france'\",\n",
       " np.int32(111): \"'ireland'\",\n",
       " np.int32(112): \"'suspense'\",\n",
       " np.int32(113): \"'romance'\",\n",
       " np.int32(114): \"'mental health'\",\n",
       " np.int32(115): \"'contemporary romance'\",\n",
       " np.int32(116): \"'adult fiction'\",\n",
       " np.int32(117): \"'short stories'\",\n",
       " np.int32(118): \"'mystery'\",\n",
       " np.int32(119): \"'fiction'\",\n",
       " np.int32(120): \"'drama'\",\n",
       " np.int32(121): \"'psychology'\",\n",
       " np.int32(122): \"'mystery thriller'\",\n",
       " np.int32(123): \"'paranormal'\",\n",
       " np.int32(124): \"'crime'\",\n",
       " np.int32(125): \"'fiction'\",\n",
       " np.int32(126): \"'fiction'\",\n",
       " np.int32(127): \"'fiction'\",\n",
       " np.int32(128): \"'contemporary'\",\n",
       " np.int32(129): \"'historical'\",\n",
       " np.int32(130): \"['fantasy'\",\n",
       " np.int32(131): \"'fiction'\",\n",
       " np.int32(132): \"'scandinavian literature'\",\n",
       " np.int32(133): \"['fantasy'\",\n",
       " np.int32(134): \"'young adult'\",\n",
       " np.int32(135): \"'epic'\",\n",
       " np.int32(136): \"'fiction'\",\n",
       " np.int32(137): \"'science fiction'\",\n",
       " np.int32(138): \"'nonfiction'\",\n",
       " np.int32(139): \"'history'\",\n",
       " np.int32(140): \"'suspense'\",\n",
       " np.int32(141): \"'nonfiction'\",\n",
       " np.int32(142): \"'historical'\",\n",
       " np.int32(143): \"'literature'\",\n",
       " np.int32(144): \"'southern'\",\n",
       " np.int32(145): \"'suspense'\",\n",
       " np.int32(146): \"'childrens'\",\n",
       " np.int32(147): \"'paranormal'\",\n",
       " np.int32(148): \"'westerns'\",\n",
       " np.int32(149): \"'historical'\"}"
      ]
     },
     "execution_count": 68,
     "metadata": {},
     "output_type": "execute_result"
    }
   ],
   "source": [
    "cluster_to_genre"
   ]
  },
  {
   "cell_type": "code",
   "execution_count": 69,
   "id": "d699186a",
   "metadata": {},
   "outputs": [
    {
     "name": "stdout",
     "output_type": "stream",
     "text": [
      "Saved: books_df.pkl\n",
      "Saved: cosine_sim.pkl\n",
      "Saved: kmeans.pkl\n"
     ]
    }
   ],
   "source": [
    "# Save model\n",
    "artifacts = {\n",
    "    'books_df': df,\n",
    "    'cosine_sim': cosine_sim,\n",
    "    'kmeans': kmeans\n",
    "}\n",
    "\n",
    "for model, obj in artifacts.items():\n",
    "    file_path = f'{model}.pkl'\n",
    "    with open(file_path, 'wb') as f:\n",
    "        pickle.dump(obj, f)\n",
    "    print(f\"Saved: {file_path}\")\n"
   ]
  }
 ],
 "metadata": {
  "kernelspec": {
   "display_name": "machine_learning",
   "language": "python",
   "name": "python3"
  },
  "language_info": {
   "codemirror_mode": {
    "name": "ipython",
    "version": 3
   },
   "file_extension": ".py",
   "mimetype": "text/x-python",
   "name": "python",
   "nbconvert_exporter": "python",
   "pygments_lexer": "ipython3",
   "version": "3.12.3"
  }
 },
 "nbformat": 4,
 "nbformat_minor": 5
}
